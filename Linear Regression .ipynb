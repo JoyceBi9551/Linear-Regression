{
 "cells": [
  {
   "cell_type": "markdown",
   "metadata": {},
   "source": [
    "## Linear Model"
   ]
  },
  {
   "cell_type": "markdown",
   "metadata": {},
   "source": [
    "Linear regression is a very simple approach for supervised learning. It's a useful tool for predicting a quantitative response. It has been around for quite a long time and is the topic of innumerable textbooks. Though it may seem too simple when compared to advanced models, it still works widely as a statistical learning method.\n",
    "\n",
    "Although simple, linear regression can work as a great benchmark when we are training our statistical learning model. And beyond linear regression, we can have many generalizations and extensions which make simple linear regression powerful.\n",
    "\n",
    "So it is very important to have a deep understanding of linear regression and learn basic statistical learning essentials based on this simple but important model."
   ]
  },
  {
   "cell_type": "markdown",
   "metadata": {},
   "source": [
    "### Linear regression with **Normal Equation**"
   ]
  },
  {
   "cell_type": "code",
   "execution_count": 30,
   "metadata": {},
   "outputs": [],
   "source": [
    "# Common imports\n",
    "import numpy as np\n",
    "import pandas as pd\n",
    "import os, sys\n",
    "\n",
    "%matplotlib inline\n",
    "import matplotlib\n",
    "import matplotlib.pyplot as plt\n",
    "plt.style.use('seaborn-whiteg'\n",
    "              ''\n",
    "              'rid')\n",
    "\n",
    "import warnings\n",
    "warnings.filterwarnings(action=\"ignore\")"
   ]
  },
  {
   "cell_type": "markdown",
   "metadata": {},
   "source": [
    "### Linear Regression Models and Ordinary Least Squares (OLS)\n",
    "\n",
    "#### Model assumption:\n",
    "$$y =X\\beta + \\epsilon $$\n",
    "OR \n",
    "$$y = \\beta_0 + \\beta_1 X_1 + \\beta_2 X_2 + ... + \\beta_p X_p + \\epsilon$$\n",
    "There are lots of different model assumptions for linear model. In our case, to make it comparable to other models and put it simply, we can presume such points:\n",
    "\n",
    "1. Linear relationship: Y can be expressed as a linear expression of X\n",
    "2. Random sampling: not all the $X_i$ are the same\n",
    "3. $E[\\epsilon] = 0, E[\\epsilon|X] = 0$, which indicates that $\\epsilon$ is just white noise, if $\\epsilon$ is not around 0, we can shift part of the residual to the intercept term \n",
    "4. No perfect colinearity in $X$: otherwise we can express those variables as linear combination of other dimensions\n",
    "\n",
    "Here in this model expression, inside $X$ we already have intercept $\\beta_0$. $X^T = (1, X_1, X_2, ... ,X_p)$ where $1$ is the vector of all numbers 1. "
   ]
  },
  {
   "cell_type": "markdown",
   "metadata": {},
   "source": [
    "$$\n",
    "X = \\begin{bmatrix}\n",
    "1 & x_{11} & x_{12} & ... & x_{1p}\\\\\n",
    "1 & x_{21} & x_{22} & ... & x_{2p}\\\\\n",
    "... & ... & ... & ... & ...\\\\\n",
    "1 & x_{N1} & x_{N2} & ... & x_{Np}\\\\\n",
    "\\end{bmatrix}\n",
    "$$ \n",
    "\n",
    "Here $N$ is the number of total samples and p is the number of total features. So considering the intercept, totally in $X$ the shape is $N \\times(p+1)$"
   ]
  },
  {
   "cell_type": "markdown",
   "metadata": {},
   "source": [
    "#### Loss function:\n",
    "Here in linear regression, we can easily define loss function as of **MSE: mean square error**\n",
    "$$RSS(\\beta) = \\sum_{i=1}^N(y_i - f(x_i))^2 = \\sum_{i=1}^N(y_i - \\beta_0 - \\sum_{j=1}^p x_{ij}\\beta_j)^2$$\n",
    "\n",
    "Or equivalently:\n",
    "$$RSS(\\beta) = (y- X\\beta)^T(y - X\\beta)$$"
   ]
  },
  {
   "cell_type": "markdown",
   "metadata": {},
   "source": [
    "How to solve this?\n",
    "$$\\frac{\\partial RSS(\\beta)}{\\partial \\beta} = -2X^T(y-X\\beta)$$\n",
    "$$\\frac{\\partial^2 RSS(\\beta)}{\\partial \\beta \\partial \\beta^T} = 2X^TX$$\n",
    "\n",
    "If $X$ is full rank (here we only consider full rank), $X^TX$ is positive definite, so based on the first order condition:\n",
    "$$\\frac{\\partial RSS(\\beta)}{\\partial \\beta} = 0$$\n",
    "We can get \n",
    "$$X^T(y-X\\beta) = 0$$\n",
    "So\n",
    "$$\\hat{\\beta} = (X^TX)^{-1}X^Ty$$\n",
    "Here $\\hat{}$ means the estimation of the parameter"
   ]
  },
  {
   "cell_type": "markdown",
   "metadata": {},
   "source": [
    "To better illustrate and visualize some examples, we will start from univariable regression as $y  \\sim X$"
   ]
  },
  {
   "cell_type": "code",
   "execution_count": 31,
   "metadata": {},
   "outputs": [],
   "source": [
    "## generate samples\n",
    "np.random.seed(42)\n",
    "X = 2 * np.random.rand(100, 1)\n",
    "y = 3 + 4 * X + np.random.randn(100, 1)"
   ]
  },
  {
   "cell_type": "code",
   "execution_count": 32,
   "metadata": {},
   "outputs": [
    {
     "data": {
      "text/plain": [
       "[-1, 3, -2, 15]"
      ]
     },
     "execution_count": 32,
     "metadata": {},
     "output_type": "execute_result"
    },
    {
     "data": {
      "image/png": "[encoded data removed]",
      "text/plain": [
       "<Figure size 432x288 with 1 Axes>"
      ]
     },
     "metadata": {},
     "output_type": "display_data"
    }
   ],
   "source": [
    "fig = plt.figure()\n",
    "ax = plt.axes()\n",
    "\n",
    "ax.scatter(X, y)\n",
    "ax.set_xlabel(\"$x_1$\", fontsize=18)\n",
    "ax.set_ylabel(\"$y$\", rotation=0, fontsize=18)\n",
    "ax.axis([-1, 3, -2, 15])\n",
    "\n"
   ]
  },
  {
   "cell_type": "markdown",
   "metadata": {},
   "source": [
    "Based on our normal equation \n",
    "$$\\hat{\\beta} = (X^TX)^{-1}X^Ty$$\n",
    "\n",
    "We can do like this:"
   ]
  },
  {
   "cell_type": "code",
   "execution_count": 33,
   "metadata": {},
   "outputs": [
    {
     "data": {
      "text/plain": [
       "array([[3.21509616],\n",
       "       [3.77011339]])"
      ]
     },
     "execution_count": 33,
     "metadata": {},
     "output_type": "execute_result"
    }
   ],
   "source": [
    "X_b = np.c_[np.ones((100, 1)), X]  # add x0 = 1 to each instance, which is the intercept\n",
    "beta_estimation = np.linalg.inv(X_b.T.dot(X_b)).dot(X_b.T).dot(y)\n",
    "beta_estimation"
   ]
  },
  {
   "cell_type": "markdown",
   "metadata": {},
   "source": [
    "Now lets fit some new points:"
   ]
  },
  {
   "cell_type": "code",
   "execution_count": 34,
   "metadata": {},
   "outputs": [
    {
     "data": {
      "text/plain": [
       "array([[ 1.33003946],\n",
       "       [12.64037962]])"
      ]
     },
     "execution_count": 34,
     "metadata": {},
     "output_type": "execute_result"
    }
   ],
   "source": [
    "X_new = np.array([[-0.5], [2.5]])\n",
    "X_new_b = np.c_[np.ones((2, 1)), X_new]  # add x0 = 1 to each instance, as intercept\n",
    "y_predict = X_new_b.dot(beta_estimation)\n",
    "## beta_estimation[0] + -0.5*beta_estimation[1]\n",
    "y_predict"
   ]
  },
  {
   "cell_type": "code",
   "execution_count": 35,
   "metadata": {},
   "outputs": [
    {
     "data": {
      "text/plain": [
       "[-1, 3, -2, 15]"
      ]
     },
     "execution_count": 35,
     "metadata": {},
     "output_type": "execute_result"
    },
    {
     "data": {
      "image/png": "[encoded data removed]",
      "text/plain": [
       "<Figure size 432x288 with 1 Axes>"
      ]
     },
     "metadata": {},
     "output_type": "display_data"
    }
   ],
   "source": [
    "fig = plt.figure()\n",
    "ax = plt.axes()\n",
    "\n",
    "ax.scatter(X, y, alpha=0.6)\n",
    "ax.plot(X_new, y_predict, 'r-.', label='Prediction')\n",
    "ax.set_xlabel(\"$x_1$\", fontsize=18)\n",
    "ax.set_ylabel(\"$y$\", rotation=0, fontsize=18)\n",
    "ax.legend()\n",
    "ax.axis([-1, 3, -2, 15])\n"
   ]
  },
  {
   "cell_type": "markdown",
   "metadata": {},
   "source": [
    "Or we can do sepecifically for univariable regression:"
   ]
  },
  {
   "cell_type": "markdown",
   "metadata": {},
   "source": [
    "$$\\hat{\\beta_1} = \\frac{S_{xy}}{S_{xx}} = \\frac{\\sum (X_i - \\bar{X})(y_i - \\bar{y})} {\\sum (X_i - \\bar{X})(X_i - \\bar{X})}$$\n",
    "\n",
    "$$\\hat{\\beta_0} = \\bar{y} - \\hat{\\beta_1}\\bar{X}$$"
   ]
  },
  {
   "cell_type": "code",
   "execution_count": 36,
   "metadata": {},
   "outputs": [
    {
     "data": {
      "text/plain": [
       "(3.215096157546748, 3.7701133864384833)"
      ]
     },
     "execution_count": 36,
     "metadata": {},
     "output_type": "execute_result"
    }
   ],
   "source": [
    "Sxx = 0\n",
    "Sxy = 0\n",
    "\n",
    "Sxx = np.sum(np.power(X-np.mean(X),2))\n",
    "Sxy = np.sum((X-np.mean(X))*(y-np.mean(y)))\n",
    "    \n",
    "sBeta_1 = Sxy/Sxx\n",
    "sBeta_0 = np.mean(y) - sBeta_1*np.mean(X)\n",
    "sBeta_0,sBeta_1"
   ]
  },
  {
   "cell_type": "markdown",
   "metadata": {},
   "source": [
    "### First touch with Scikit learn"
   ]
  },
  {
   "cell_type": "markdown",
   "metadata": {},
   "source": [
    "We can also use **scikit learn** model to solve this problem:"
   ]
  },
  {
   "cell_type": "code",
   "execution_count": 37,
   "metadata": {},
   "outputs": [
    {
     "data": {
      "text/plain": [
       "(array([3.21509616]), array([[3.77011339]]))"
      ]
     },
     "execution_count": 37,
     "metadata": {},
     "output_type": "execute_result"
    }
   ],
   "source": [
    "from sklearn.linear_model import LinearRegression\n",
    "lin_reg = LinearRegression()\n",
    "lin_reg.fit(X, y)\n",
    "lin_reg.intercept_, lin_reg.coef_"
   ]
  },
  {
   "cell_type": "code",
   "execution_count": 38,
   "metadata": {},
   "outputs": [
    {
     "data": {
      "text/plain": [
       "True"
      ]
     },
     "execution_count": 38,
     "metadata": {},
     "output_type": "execute_result"
    }
   ],
   "source": [
    "## Compare the difference\n",
    "np.allclose(beta_estimation.reshape(-1) , np.array([lin_reg.intercept_[0], lin_reg.coef_[0][0]]))"
   ]
  },
  {
   "cell_type": "code",
   "execution_count": 39,
   "metadata": {},
   "outputs": [
    {
     "data": {
      "text/plain": [
       "array([[-0.5],\n",
       "       [ 2.5]])"
      ]
     },
     "execution_count": 39,
     "metadata": {},
     "output_type": "execute_result"
    }
   ],
   "source": [
    "X_new"
   ]
  },
  {
   "cell_type": "code",
   "execution_count": 40,
   "metadata": {},
   "outputs": [
    {
     "data": {
      "text/plain": [
       "array([[ 1.33003946],\n",
       "       [12.64037962]])"
      ]
     },
     "execution_count": 40,
     "metadata": {},
     "output_type": "execute_result"
    }
   ],
   "source": [
    "lin_reg.predict(X_new)"
   ]
  },
  {
   "cell_type": "code",
   "execution_count": 41,
   "metadata": {
    "scrolled": true
   },
   "outputs": [
    {
     "data": {
      "text/plain": [
       "[-1, 3, -2, 15]"
      ]
     },
     "execution_count": 41,
     "metadata": {},
     "output_type": "execute_result"
    },
    {
     "data": {
      "image/png": "[encoded data removed]",
      "text/plain": [
       "<Figure size 432x288 with 1 Axes>"
      ]
     },
     "metadata": {},
     "output_type": "display_data"
    }
   ],
   "source": [
    "fig = plt.figure()\n",
    "ax = plt.axes()\n",
    "\n",
    "ax.scatter(X, y, alpha=0.6)\n",
    "ax.plot(X_new, lin_reg.predict(X_new), 'r-.', label='Prediction')\n",
    "ax.set_xlabel(\"$x_1$\", fontsize=18)\n",
    "ax.set_ylabel(\"$y$\", rotation=0, fontsize=18)\n",
    "ax.legend()\n",
    "ax.axis([-1, 3, -2, 15])\n"
   ]
  },
  {
   "cell_type": "markdown",
   "metadata": {},
   "source": [
    "But in reality, sklearn do not solve OLS merely based on normal equation, but ultimately depends on the SVD matrix decomposition. Just imagine the case when $X^TX$ is not full rank."
   ]
  },
  {
   "cell_type": "markdown",
   "metadata": {},
   "source": [
    "### Gradient descent:\n",
    "It's lucky that the OLS has an explicit mathematical formula for the solution. But it's not always the case, as we can see for other models later. So how can we deal with that?\n",
    "\n",
    "Another important approach for solving these questions is **gradient descent**.\n",
    "\n",
    "**Gradient Descent** is a general approach for solving optimization problems, especially for convex optimization problems. In a convex problem, gradient descent can always find global optimal solution via exploring the solution surface."
   ]
  },
  {
   "cell_type": "markdown",
   "metadata": {},
   "source": [
    "And the general expression of gradient descent is super simple and intuitive:\n",
    "$$\\theta^{(nextstep)} = \\theta - \\eta \\nabla_{\\theta}LOSS(\\theta)$$\n",
    "\n",
    "Where $\\theta$ is our target parameter sets, $\\eta$ is usually called learning rate. $\\nabla_{\\theta}LOSS(\\theta)$ is the gradient of the loss function.\n",
    "\n",
    "But in reality we need to take care of the gradient computation and tuning the hyper-parameters."
   ]
  },
  {
   "cell_type": "markdown",
   "metadata": {},
   "source": [
    "In our linear regression problem, the loss function is $MSE(\\beta)$, and we can easily compute the gradient of the loss function:$$\\frac{\\partial{MSE(\\beta)}}{\\partial{\\beta_j}} = \\frac{2}{m}\\sum_{i=1}^{m}(\\beta^Tx^{(i)} - y^{(i)})x_{j}^{(i)}$$\n",
    "Where $j$ is the dimension and $i$ goes through all the samples."
   ]
  },
  {
   "cell_type": "code",
   "execution_count": 42,
   "metadata": {},
   "outputs": [
    {
     "data": {
      "text/plain": [
       "(100, 1)"
      ]
     },
     "execution_count": 42,
     "metadata": {},
     "output_type": "execute_result"
    }
   ],
   "source": [
    "X.shape"
   ]
  },
  {
   "cell_type": "code",
   "execution_count": 43,
   "metadata": {},
   "outputs": [],
   "source": [
    "## Learning rate\n",
    "eta = 0.1\n",
    "num_iterations = 1000\n",
    "total_num_of_samples = X.shape[0]\n",
    "## initialize the parameter\n",
    "beta_byGradientDescent = np.random.randn(2,1)\n",
    "\n",
    "beta_byGradientDescent_path = []\n",
    "for each_iteration in range(num_iterations):\n",
    "    gradients = 2/total_num_of_samples * X_b.T.dot(X_b.dot(beta_byGradientDescent) - y)\n",
    "    beta_byGradientDescent = beta_byGradientDescent - eta * gradients\n",
    "    beta_byGradientDescent_path.append(beta_byGradientDescent)"
   ]
  },
  {
   "cell_type": "code",
   "execution_count": 44,
   "metadata": {},
   "outputs": [
    {
     "data": {
      "text/plain": [
       "array([[3.21509616],\n",
       "       [3.77011339]])"
      ]
     },
     "execution_count": 44,
     "metadata": {},
     "output_type": "execute_result"
    }
   ],
   "source": [
    "beta_byGradientDescent"
   ]
  },
  {
   "cell_type": "code",
   "execution_count": 45,
   "metadata": {},
   "outputs": [
    {
     "data": {
      "text/plain": [
       "array([[3.21509616],\n",
       "       [3.77011339]])"
      ]
     },
     "execution_count": 45,
     "metadata": {},
     "output_type": "execute_result"
    }
   ],
   "source": [
    "beta_estimation"
   ]
  },
  {
   "cell_type": "markdown",
   "metadata": {},
   "source": [
    "Gradient descent gives us almost the same result as of normal equation."
   ]
  },
  {
   "cell_type": "code",
   "execution_count": 46,
   "metadata": {},
   "outputs": [
    {
     "data": {
      "text/plain": [
       "True"
      ]
     },
     "execution_count": 46,
     "metadata": {},
     "output_type": "execute_result"
    }
   ],
   "source": [
    "np.allclose(beta_byGradientDescent, beta_estimation)"
   ]
  },
  {
   "cell_type": "markdown",
   "metadata": {},
   "source": [
    "### Stochastic Gradient Descent\n",
    "As we can see from the formula and code, gradient descent needs to use the whole training data to calculate the gradient, which can be slow especially when the dataset is very large. Another way to fast the approach is to adjust the gradient computation to be based on single random data point rather than the whole training set. Which is called **stochastic gradient descent**, a.k.a. **SGD**"
   ]
  },
  {
   "cell_type": "code",
   "execution_count": 47,
   "metadata": {},
   "outputs": [],
   "source": [
    "## Stochastic gradient descent looping times\n",
    "n_epochs = 500\n",
    "## fix learning rate\n",
    "eta = 0.001\n",
    "total_num_of_samples = X.shape[0]\n",
    "\n",
    "\n",
    "beta_SGD = np.random.randn(2,1)  # random initialization\n",
    "\n",
    "beta_SGD_path = []\n",
    "for each_epoch in range(n_epochs):\n",
    "    for i in range(total_num_of_samples):\n",
    "        \n",
    "        random_index = np.random.randint(total_num_of_samples)\n",
    "        ## Every time pick 1 single data point\n",
    "        xi = X_b[random_index:random_index+1]\n",
    "        yi = y[random_index:random_index+1]\n",
    "        \n",
    "        gradients = 2 * xi.T.dot(xi.dot(beta_SGD) - yi)\n",
    "        beta_SGD = beta_SGD - eta * gradients\n",
    "        beta_SGD_path.append(beta_SGD)"
   ]
  },
  {
   "cell_type": "code",
   "execution_count": 48,
   "metadata": {},
   "outputs": [
    {
     "data": {
      "text/plain": [
       "array([[3.25314299],\n",
       "       [3.82984675]])"
      ]
     },
     "execution_count": 48,
     "metadata": {},
     "output_type": "execute_result"
    }
   ],
   "source": [
    "beta_SGD"
   ]
  },
  {
   "cell_type": "markdown",
   "metadata": {},
   "source": [
    "We can see that even if not exactly the same as previous result, but we are very close to it."
   ]
  },
  {
   "cell_type": "code",
   "execution_count": 49,
   "metadata": {},
   "outputs": [],
   "source": [
    "def learning_schedule(t):\n",
    "    t0, t1 = 1, 100  # learning schedule hyperparameters\n",
    "    return t0 / (t + t1)\n",
    "        \n",
    "## Stochastic gradient descent looping times\n",
    "n_epochs = 50\n",
    "total_num_of_samples = X.shape[0]\n",
    "\n",
    "beta_SGD2 = np.random.randn(2,1)  # random initialization\n",
    "\n",
    "beta_SGD2_path = []\n",
    "for each_epoch in range(n_epochs):\n",
    "    for i in range(total_num_of_samples):\n",
    "        \n",
    "        random_index = np.random.randint(total_num_of_samples)\n",
    "        ## Every time pick 1 single data point\n",
    "        xi = X_b[random_index:random_index+1]\n",
    "        yi = y[random_index:random_index+1]\n",
    "        \n",
    "        ## update learning schedule\n",
    "        eta = learning_schedule(each_epoch*total_num_of_samples + i)\n",
    "#         eta = 0.001\n",
    "        gradients = 2 * xi.T.dot(xi.dot(beta_SGD) - yi)\n",
    "        beta_SGD2 = beta_SGD2 - eta * gradients\n",
    "        beta_SGD2_path.append(beta_SGD2)"
   ]
  },
  {
   "cell_type": "code",
   "execution_count": 50,
   "metadata": {},
   "outputs": [
    {
     "data": {
      "text/plain": [
       "array([[-1.92518915],\n",
       "       [-0.24495324]])"
      ]
     },
     "execution_count": 50,
     "metadata": {},
     "output_type": "execute_result"
    }
   ],
   "source": [
    "beta_SGD2"
   ]
  },
  {
   "cell_type": "markdown",
   "metadata": {},
   "source": [
    "As we can see SGD cannot guarantee the convergence of the optimization. Sometimes we also need to take care of tuning the hyper-parameters.\n",
    "\n",
    "\n",
    "SGD is also implemented in scikit-learn as a built-in API."
   ]
  },
  {
   "cell_type": "code",
   "execution_count": 51,
   "metadata": {},
   "outputs": [
    {
     "data": {
      "text/plain": [
       "SGDRegressor(alpha=0.0001, average=False, early_stopping=False, epsilon=0.1,\n",
       "             eta0=0.1, fit_intercept=True, l1_ratio=0.15,\n",
       "             learning_rate='invscaling', loss='squared_loss', max_iter=50,\n",
       "             n_iter_no_change=5, penalty=None, power_t=0.25, random_state=0,\n",
       "             shuffle=True, tol=-inf, validation_fraction=0.1, verbose=0,\n",
       "             warm_start=False)"
      ]
     },
     "execution_count": 51,
     "metadata": {},
     "output_type": "execute_result"
    }
   ],
   "source": [
    "from sklearn.linear_model import SGDRegressor\n",
    "## max_iter is the number of maximum epoches, tol is the converging tolerance, eta is the learning rate\n",
    "sgd_reg = SGDRegressor(max_iter=50, tol=-np.infty, penalty=None, eta0=0.1, random_state=0)\n",
    "sgd_reg.fit(X, y.ravel())"
   ]
  },
  {
   "cell_type": "code",
   "execution_count": 52,
   "metadata": {},
   "outputs": [
    {
     "data": {
      "text/plain": [
       "(array([3.21101192]), array([3.7665544]))"
      ]
     },
     "execution_count": 52,
     "metadata": {},
     "output_type": "execute_result"
    }
   ],
   "source": [
    "sgd_reg.intercept_, sgd_reg.coef_"
   ]
  },
  {
   "cell_type": "markdown",
   "metadata": {},
   "source": [
    "Furthermore, we can combine gradient descent with stochastic gradient descent together, stochastically deal with batch data, in order to improve the stability and speed of both algorithm. This is known as **Mini-batch Gradient Descent**. As indicated from the name, in **Mini-batch Gradient Descent**, we re-organize the whole batch of data into several mini batches, and then apply stochastic gradient descent on them, each mini-batch as a data point in SGD."
   ]
  },
  {
   "cell_type": "code",
   "execution_count": 53,
   "metadata": {},
   "outputs": [],
   "source": [
    "n_epoches = 200\n",
    "minibatch_size = 20\n",
    "total_num_of_samples = X.shape[0]\n",
    "\n",
    "np.random.seed(42)\n",
    "\n",
    "beta_minibatch = np.random.randn(2,1)  # random initialization\n",
    "eta = 0.005\n",
    "\n",
    "beta_minibatch_path = []\n",
    "for each_epoch in range(n_epoches):\n",
    "    ## re-organize original dataset\n",
    "    shuffled_indices = np.random.permutation(total_num_of_samples)\n",
    "    X_b_shuffled = X_b[shuffled_indices]\n",
    "    y_shuffled = y[shuffled_indices]\n",
    "    \n",
    "    for i in range(0, total_num_of_samples, minibatch_size):\n",
    "        ## select mini batch of the data\n",
    "        xi = X_b_shuffled[i:i+minibatch_size]\n",
    "        yi = y_shuffled[i:i+minibatch_size]\n",
    "        \n",
    "        ## Gradient computation is the same as batch gradient descent\n",
    "        gradients = 2/minibatch_size * xi.T.dot(xi.dot(beta_minibatch) - yi)\n",
    "        beta_minibatch = beta_minibatch - eta * gradients\n",
    "        beta_minibatch_path.append(beta_minibatch)"
   ]
  },
  {
   "cell_type": "code",
   "execution_count": 54,
   "metadata": {},
   "outputs": [
    {
     "data": {
      "text/plain": [
       "array([[3.29100691],\n",
       "       [3.70415877]])"
      ]
     },
     "execution_count": 54,
     "metadata": {},
     "output_type": "execute_result"
    }
   ],
   "source": [
    "beta_minibatch"
   ]
  },
  {
   "cell_type": "markdown",
   "metadata": {},
   "source": [
    "We can also compare the trajectory of those different algorithms when we are doing the optimization:"
   ]
  },
  {
   "cell_type": "code",
   "execution_count": 29,
   "metadata": {},
   "outputs": [
    {
     "data": {
      "text/plain": [
       "<matplotlib.legend.Legend at 0x21d0f140c88>"
      ]
     },
     "execution_count": 29,
     "metadata": {},
     "output_type": "execute_result"
    },
    {
     "data": {
      "image/png": "[encoded data removed]",
      "text/plain": [
       "<Figure size 432x288 with 1 Axes>"
      ]
     },
     "metadata": {},
     "output_type": "display_data"
    }
   ],
   "source": [
    "toNpArray = lambda l : np.array(l)\n",
    "optpaths= {'Batch Gradient Descent' : (toNpArray(beta_byGradientDescent_path), 'r-<'), \n",
    "           'Mini Batch' : (toNpArray(beta_minibatch_path), 'g-*'),\n",
    "           'SGD' : (toNpArray(beta_SGD_path), 'b-.')}\n",
    "\n",
    "fig = plt.figure()\n",
    "ax = plt.axes()\n",
    "for each_key in optpaths.keys():\n",
    "    current_series = optpaths.get(each_key)[0]\n",
    "    current_style = optpaths.get(each_key)[1]\n",
    "    \n",
    "    ax.plot(current_series[:,0], current_series[:,1], current_style,label = each_key)\n",
    "\n",
    "ax.legend()"
   ]
  }
 ],
 "metadata": {
  "kernelspec": {
   "display_name": "Python 3",
   "language": "python",
   "name": "python3"
  },
  "language_info": {
   "codemirror_mode": {
    "name": "ipython",
    "version": 3
   },
   "file_extension": ".py",
   "mimetype": "text/x-python",
   "name": "python",
   "nbconvert_exporter": "python",
   "pygments_lexer": "ipython3",
   "version": "3.7.6"
  }
 },
 "nbformat": 4,
 "nbformat_minor": 4
}
